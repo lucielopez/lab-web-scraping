{
  "cells": [
    {
      "cell_type": "markdown",
      "id": "7e7a1ab8-2599-417d-9a65-25ef07f3a786",
      "metadata": {
        "id": "7e7a1ab8-2599-417d-9a65-25ef07f3a786"
      },
      "source": [
        "# Lab | Web Scraping"
      ]
    },
    {
      "cell_type": "markdown",
      "id": "ce8882fc-4815-4567-92fa-b4816358ba7d",
      "metadata": {
        "id": "ce8882fc-4815-4567-92fa-b4816358ba7d"
      },
      "source": [
        "Welcome to the \"Books to Scrape\" Web Scraping Adventure Lab!\n",
        "\n",
        "**Objective**\n",
        "\n",
        "In this lab, we will embark on a mission to unearth valuable insights from the data available on Books to Scrape, an online platform showcasing a wide variety of books. As data analyst, you have been tasked with scraping a specific subset of book data from Books to Scrape to assist publishing companies in understanding the landscape of highly-rated books across different genres. Your insights will help shape future book marketing strategies and publishing decisions.\n",
        "\n",
        "**Background**\n",
        "\n",
        "In a world where data has become the new currency, businesses are leveraging big data to make informed decisions that drive success and profitability. The publishing industry, much like others, utilizes data analytics to understand market trends, reader preferences, and the performance of books based on factors such as genre, author, and ratings. Books to Scrape serves as a rich source of such data, offering detailed information about a diverse range of books, making it an ideal platform for extracting insights to aid in informed decision-making within the literary world.\n",
        "\n",
        "**Task**\n",
        "\n",
        "Your task is to create a Python script using BeautifulSoup and pandas to scrape Books to Scrape book data, focusing on book ratings and genres. The script should be able to filter books with ratings above a certain threshold and in specific genres. Additionally, the script should structure the scraped data in a tabular format using pandas for further analysis.\n",
        "\n",
        "**Expected Outcome**\n",
        "\n",
        "A function named `scrape_books` that takes two parameters: `min_rating` and `max_price`. The function should scrape book data from the \"Books to Scrape\" website and return a `pandas` DataFrame with the following columns:\n",
        "\n",
        "**Expected Outcome**\n",
        "\n",
        "- A function named `scrape_books` that takes two parameters: `min_rating` and `max_price`.\n",
        "- The function should return a DataFrame with the following columns:\n",
        "  - **UPC**: The Universal Product Code (UPC) of the book.\n",
        "  - **Title**: The title of the book.\n",
        "  - **Price (£)**: The price of the book in pounds.\n",
        "  - **Rating**: The rating of the book (1-5 stars).\n",
        "  - **Genre**: The genre of the book.\n",
        "  - **Availability**: Whether the book is in stock or not.\n",
        "  - **Description**: A brief description or product description of the book (if available).\n",
        "  \n",
        "You will execute this script to scrape data for books with a minimum rating of `4.0 and above` and a maximum price of `£20`. \n",
        "\n",
        "Remember to experiment with different ratings and prices to ensure your code is versatile and can handle various searches effectively!\n",
        "\n",
        "**Resources**\n",
        "\n",
        "- [Beautiful Soup Documentation](https://www.crummy.com/software/BeautifulSoup/bs4/doc/)\n",
        "- [Pandas Documentation](https://pandas.pydata.org/pandas-docs/stable/index.html)\n",
        "- [Books to Scrape](https://books.toscrape.com/)\n"
      ]
    },
    {
      "cell_type": "markdown",
      "id": "3519921d-5890-445b-9a33-934ed8ee378c",
      "metadata": {
        "id": "3519921d-5890-445b-9a33-934ed8ee378c"
      },
      "source": [
        "**Hint**\n",
        "\n",
        "Your first mission is to familiarize yourself with the **Books to Scrape** website. Navigate to [Books to Scrape](http://books.toscrape.com/) and explore the available books to understand their layout and structure. \n",
        "\n",
        "Next, think about how you can set parameters for your data extraction:\n",
        "\n",
        "- **Minimum Rating**: Focus on books with a rating of 4.0 and above.\n",
        "- **Maximum Price**: Filter for books priced up to £20.\n",
        "\n",
        "After reviewing the site, you can construct a plan for scraping relevant data. Pay attention to the details displayed for each book, including the title, price, rating, and availability. This will help you identify the correct HTML elements to target with your scraping script.\n",
        "\n",
        "Make sure to build your scraping URL and logic based on the patterns you observe in the HTML structure of the book listings!"
      ]
    },
    {
      "cell_type": "markdown",
      "id": "25a83a0d-a742-49f6-985e-e27887cbf922",
      "metadata": {
        "id": "25a83a0d-a742-49f6-985e-e27887cbf922"
      },
      "source": [
        "\n",
        "---\n",
        "\n",
        "**Best of luck! Immerse yourself in the world of books, and may the data be with you!**"
      ]
    },
    {
      "cell_type": "markdown",
      "id": "7b75cf0d-9afa-4eec-a9e2-befeac68b2a0",
      "metadata": {
        "id": "7b75cf0d-9afa-4eec-a9e2-befeac68b2a0"
      },
      "source": [
        "**Important Note**:\n",
        "\n",
        "In the fast-changing online world, websites often update and change their structures. When you try this lab, the **Books to Scrape** website might differ from what you expect.\n",
        "\n",
        "If you encounter issues due to these changes, like new rules or obstacles preventing data extraction, don’t worry! Get creative.\n",
        "\n",
        "You can choose another website that interests you and is suitable for scraping data. Options like Wikipedia, The New York Times, or even library databases are great alternatives. The main goal remains the same: extract useful data and enhance your web scraping skills while exploring a source of information you enjoy. This is your opportunity to practice and adapt to different web environments!"
      ]
    },
    {
      "cell_type": "code",
      "execution_count": 2,
      "id": "40359eee-9cd7-4884-bfa4-83344c222305",
      "metadata": {
        "id": "40359eee-9cd7-4884-bfa4-83344c222305"
      },
      "outputs": [],
      "source": [
        "import pandas as pd\n",
        "import requests\n",
        "from bs4 import BeautifulSoup"
      ]
    },
    {
      "cell_type": "code",
      "execution_count": 4,
      "id": "593df2f0",
      "metadata": {},
      "outputs": [
        {
          "data": {
            "text/plain": [
              "<Response [200]>"
            ]
          },
          "execution_count": 4,
          "metadata": {},
          "output_type": "execute_result"
        }
      ],
      "source": [
        "url = \"https://books.toscrape.com/catalogue/page-1.html\"\n",
        "response = requests.get(url)\n",
        "response"
      ]
    },
    {
      "cell_type": "code",
      "execution_count": 5,
      "id": "5b98f789",
      "metadata": {},
      "outputs": [],
      "source": [
        "soup = BeautifulSoup(response.content)"
      ]
    },
    {
      "cell_type": "code",
      "execution_count": 6,
      "id": "636400c6",
      "metadata": {},
      "outputs": [],
      "source": [
        "books_grid = soup.find(\"ol\", attrs = {\"class\":\"row\"})"
      ]
    },
    {
      "cell_type": "code",
      "execution_count": 7,
      "id": "f022b55f",
      "metadata": {},
      "outputs": [],
      "source": [
        "books = books_grid.find_all(\"li\", attrs = {\"class\":\"col-xs-6 col-sm-4 col-md-3 col-lg-3\"})"
      ]
    },
    {
      "cell_type": "code",
      "execution_count": null,
      "id": "3b033b71",
      "metadata": {},
      "outputs": [
        {
          "name": "stdout",
          "output_type": "stream",
          "text": [
            "   UPC          Title    Genre Availability     Description  Price (£)  Rating\n",
            "0  N/A  404 Not Found  Unknown          N/A  No description      17.46       5\n",
            "1  N/A  404 Not Found  Unknown          N/A  No description      17.66       5\n",
            "2  N/A  404 Not Found  Unknown          N/A  No description      15.94       5\n",
            "3  N/A  404 Not Found  Unknown          N/A  No description      14.27       4\n",
            "4  N/A  404 Not Found  Unknown          N/A  No description      19.49       4\n",
            "\n",
            "Scraping complete. Results saved to 'filtered_books.csv'.\n"
          ]
        }
      ],
      "source": [
        "BASE_URL = \"http://books.toscrape.com/\"\n",
        "\n",
        "# Map star-rating class names to numeric values\n",
        "RATING_MAP = {\n",
        "    \"One\": 1,\n",
        "    \"Two\": 2,\n",
        "    \"Three\": 3,\n",
        "    \"Four\": 4,\n",
        "    \"Five\": 5\n",
        "}\n",
        "\n",
        "def get_full_url(relative_url):\n",
        "    return BASE_URL + relative_url.replace(\"../\", \"\").replace(\"catalogue/\", \"\")\n",
        "\n",
        "def scrape_book_detail(url):\n",
        "    response = requests.get(url)\n",
        "    soup = BeautifulSoup(response.content, \"html.parser\")\n",
        "\n",
        "    title = soup.h1.text.strip()\n",
        "\n",
        "    description_tag = soup.select_one(\"#product_description ~ p\")\n",
        "    description = description_tag.text.strip() if description_tag else \"No description\"\n",
        "\n",
        "    table = soup.select(\"table.table.table-striped tr\")\n",
        "    upc = table[0].td.text.strip() if len(table) > 0 else \"N/A\"\n",
        "    availability = table[5].td.text.strip() if len(table) > 5 else \"N/A\"\n",
        "\n",
        "    breadcrumb = soup.select(\"ul.breadcrumb li a\")\n",
        "    genre = breadcrumb[2].text.strip() if len(breadcrumb) > 2 else \"Unknown\"\n",
        "\n",
        "    return {\n",
        "        \"UPC\": upc,\n",
        "        \"Title\": title,\n",
        "        \"Genre\": genre,\n",
        "        \"Availability\": availability,\n",
        "        \"Description\": description\n",
        "    }\n",
        "\n",
        "def scrape_books(min_rating=4, max_price=20):\n",
        "    \"\"\"Scrape books from the site matching rating and price filters.\"\"\"\n",
        "    all_books = []\n",
        "    page_url = \"catalogue/page-1.html\"\n",
        "\n",
        "    while page_url:\n",
        "        response = requests.get(BASE_URL + page_url)\n",
        "        soup = BeautifulSoup(response.content, \"html.parser\")\n",
        "        book_items = soup.select(\"article.product_pod\")\n",
        "\n",
        "        for book in book_items:\n",
        "            # Extract rating\n",
        "            rating_class = book.p['class'][1]\n",
        "            rating = RATING_MAP.get(rating_class, 0)\n",
        "\n",
        "            # Extract price\n",
        "            price_text = book.select_one(\"p.price_color\").text.strip().replace(\"£\", \"\")\n",
        "            price = float(price_text)\n",
        "\n",
        "            if rating >= min_rating and price <= max_price:\n",
        "                # Link to book detail page\n",
        "                detail_href = book.h3.a['href']\n",
        "                detail_url = get_full_url(detail_href)\n",
        "\n",
        "                # Get detailed book data\n",
        "                book_data = scrape_book_detail(detail_url)\n",
        "\n",
        "                # Add price and rating to book_data\n",
        "                book_data.update({\n",
        "                    \"Price (£)\": price,\n",
        "                    \"Rating\": rating\n",
        "                })\n",
        "\n",
        "                all_books.append(book_data)\n",
        "\n",
        "        # Go to next page if available\n",
        "        next_button = soup.select_one(\"li.next > a\")\n",
        "        if next_button:\n",
        "            next_href = next_button['href']\n",
        "            page_url = \"catalogue/\" + next_href\n",
        "        else:\n",
        "            page_url = None\n",
        "\n",
        "\n",
        "    return pd.DataFrame(all_books)\n",
        "\n",
        "if __name__ == \"__main__\":\n",
        "    # Example: get books with rating >= 4 and price <= 20\n",
        "    df = scrape_books(min_rating=4, max_price=20)\n",
        "    print(df.head())\n",
        "    df.to_csv(\"filtered_books.csv\", index=False)\n",
        "    print(\"\\nScraping complete. Results saved to 'filtered_books.csv'.\")\n"
      ]
    }
  ],
  "metadata": {
    "colab": {
      "provenance": []
    },
    "kernelspec": {
      "display_name": "base",
      "language": "python",
      "name": "python3"
    },
    "language_info": {
      "codemirror_mode": {
        "name": "ipython",
        "version": 3
      },
      "file_extension": ".py",
      "mimetype": "text/x-python",
      "name": "python",
      "nbconvert_exporter": "python",
      "pygments_lexer": "ipython3",
      "version": "3.12.2"
    }
  },
  "nbformat": 4,
  "nbformat_minor": 5
}
